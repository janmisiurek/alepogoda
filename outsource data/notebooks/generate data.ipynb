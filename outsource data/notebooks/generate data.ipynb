{
 "cells": [
  {
   "cell_type": "code",
   "execution_count": 1,
   "id": "6d0ab863",
   "metadata": {},
   "outputs": [],
   "source": [
    "import pandas as pd\n",
    "import numpy as np\n",
    "import os"
   ]
  },
  {
   "cell_type": "code",
   "execution_count": 2,
   "id": "14f698f1",
   "metadata": {},
   "outputs": [
    {
     "data": {
      "text/html": [
       "<div>\n",
       "<style scoped>\n",
       "    .dataframe tbody tr th:only-of-type {\n",
       "        vertical-align: middle;\n",
       "    }\n",
       "\n",
       "    .dataframe tbody tr th {\n",
       "        vertical-align: top;\n",
       "    }\n",
       "\n",
       "    .dataframe thead th {\n",
       "        text-align: right;\n",
       "    }\n",
       "</style>\n",
       "<table border=\"1\" class=\"dataframe\">\n",
       "  <thead>\n",
       "    <tr style=\"text-align: right;\">\n",
       "      <th></th>\n",
       "      <th>City</th>\n",
       "      <th>Date</th>\n",
       "      <th>temp_max</th>\n",
       "      <th>temp_min</th>\n",
       "    </tr>\n",
       "  </thead>\n",
       "  <tbody>\n",
       "    <tr>\n",
       "      <th>0</th>\n",
       "      <td>Warszawa</td>\n",
       "      <td>2023-01-01</td>\n",
       "      <td>19</td>\n",
       "      <td>11</td>\n",
       "    </tr>\n",
       "    <tr>\n",
       "      <th>1</th>\n",
       "      <td>Warszawa</td>\n",
       "      <td>2023-01-02</td>\n",
       "      <td>14</td>\n",
       "      <td>6</td>\n",
       "    </tr>\n",
       "    <tr>\n",
       "      <th>2</th>\n",
       "      <td>Warszawa</td>\n",
       "      <td>2023-01-03</td>\n",
       "      <td>11</td>\n",
       "      <td>4</td>\n",
       "    </tr>\n",
       "    <tr>\n",
       "      <th>3</th>\n",
       "      <td>Warszawa</td>\n",
       "      <td>2023-01-04</td>\n",
       "      <td>7</td>\n",
       "      <td>-3</td>\n",
       "    </tr>\n",
       "    <tr>\n",
       "      <th>4</th>\n",
       "      <td>Warszawa</td>\n",
       "      <td>2023-01-05</td>\n",
       "      <td>9</td>\n",
       "      <td>3</td>\n",
       "    </tr>\n",
       "  </tbody>\n",
       "</table>\n",
       "</div>"
      ],
      "text/plain": [
       "       City        Date  temp_max  temp_min\n",
       "0  Warszawa  2023-01-01        19        11\n",
       "1  Warszawa  2023-01-02        14         6\n",
       "2  Warszawa  2023-01-03        11         4\n",
       "3  Warszawa  2023-01-04         7        -3\n",
       "4  Warszawa  2023-01-05         9         3"
      ]
     },
     "execution_count": 2,
     "metadata": {},
     "output_type": "execute_result"
    }
   ],
   "source": [
    "df = pd.read_csv('/home/misiur/Projects/alepogoda/outsource data/historical/hist_temp_data.csv')\n",
    "df.head()"
   ]
  },
  {
   "cell_type": "code",
   "execution_count": 13,
   "id": "9bd8d21c",
   "metadata": {},
   "outputs": [
    {
     "data": {
      "text/html": [
       "<div>\n",
       "<style scoped>\n",
       "    .dataframe tbody tr th:only-of-type {\n",
       "        vertical-align: middle;\n",
       "    }\n",
       "\n",
       "    .dataframe tbody tr th {\n",
       "        vertical-align: top;\n",
       "    }\n",
       "\n",
       "    .dataframe thead th {\n",
       "        text-align: right;\n",
       "    }\n",
       "</style>\n",
       "<table border=\"1\" class=\"dataframe\">\n",
       "  <thead>\n",
       "    <tr style=\"text-align: right;\">\n",
       "      <th></th>\n",
       "    </tr>\n",
       "  </thead>\n",
       "  <tbody>\n",
       "  </tbody>\n",
       "</table>\n",
       "</div>"
      ],
      "text/plain": [
       "Empty DataFrame\n",
       "Columns: []\n",
       "Index: []"
      ]
     },
     "execution_count": 13,
     "metadata": {},
     "output_type": "execute_result"
    }
   ],
   "source": [
    "forecasts = []\n",
    "\n",
    "for _, group in df.groupby('City'):\n",
    "    for i, row in group.iterrows():\n",
    "        forecast_row = {'city': row['City'], 'date': row['Date']}\n",
    "\n",
    "        # Utwórz kolumny prognoz na kolejne 7 dni począwszy od danego dnia\n",
    "        for j in range(1, 8):\n",
    "            # Sprawdź, czy istnieją dane dla dnia j\n",
    "            if i+j < len(group):\n",
    "                # Oblicz temperatury prognoz dla dnia j\n",
    "                forecast_max = group.iloc[i+j]['temp_max'] + (j)*2 - (j)**2\n",
    "                forecast_min = group.iloc[i+j]['temp_min'] - (j)*2 + (j)**2\n",
    "                \n",
    "                # Dodaj losową wartość do temperatur, aby uzyskać mniej dokładne prognozy\n",
    "                forecast_max += int((10 - j)*pd.Series([1,-1]).sample(n=1).values[0])\n",
    "                forecast_min += int((10 - j)*pd.Series([1,-1]).sample(n=1).values[0])\n",
    "                \n",
    "                # Dodaj kolumny prognoz do wiersza prognoz\n",
    "                forecast_row[f'forecast_{j-1}_max'] = forecast_max\n",
    "                forecast_row[f'forecast_{j-1}_min'] = forecast_min\n",
    "            else:\n",
    "                # Jeśli nie ma odpowiednich danych, ustaw wartości NaN\n",
    "                forecast_row[f'forecast_{j-1}_max'] = np.nan\n",
    "                forecast_row[f'forecast_{j-1}_min'] = np.nan\n",
    "\n",
    "df_forecasts = pd.DataFrame(forecasts)\n",
    "df_forecasts.head()\n",
    "#df_forecasts.to_csv(\"forecasts_gen.csv\", index=False)"
   ]
  },
  {
   "cell_type": "code",
   "execution_count": null,
   "id": "6feba3d4",
   "metadata": {},
   "outputs": [],
   "source": []
  }
 ],
 "metadata": {
  "kernelspec": {
   "display_name": "Python 3 (ipykernel)",
   "language": "python",
   "name": "python3"
  },
  "language_info": {
   "codemirror_mode": {
    "name": "ipython",
    "version": 3
   },
   "file_extension": ".py",
   "mimetype": "text/x-python",
   "name": "python",
   "nbconvert_exporter": "python",
   "pygments_lexer": "ipython3",
   "version": "3.10.6"
  }
 },
 "nbformat": 4,
 "nbformat_minor": 5
}
